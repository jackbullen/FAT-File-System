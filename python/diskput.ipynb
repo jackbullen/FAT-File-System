{
 "cells": [
  {
   "cell_type": "code",
   "execution_count": null,
   "metadata": {},
   "outputs": [],
   "source": [
    "from utils import get_boot_sector, get_fat_info, get_file_system"
   ]
  },
  {
   "cell_type": "code",
   "execution_count": null,
   "metadata": {},
   "outputs": [],
   "source": [
    "image_file = '/Users/jackbullen/Downloads/subdirs.img'\n",
    "\n",
    "file_path = '/subdir1/subdir2/foo.txt'\n",
    "destination_path = './mkfile.cc'\n",
    "\n",
    "with open(image_file, \"rb\") as f:\n",
    "    # Get super block, root, and fat\n",
    "    os_name, block_size, block_count, fat_start, fat_blocks, root_dir_start, root_dir_blocks = get_boot_sector(f)\n",
    "    fat = get_fat_info(f, fat_start, fat_blocks, block_size)\n",
    "\n",
    "    file_system = get_file_system(root_dir_blocks, block_size, fat, root_dir_start)\n",
    "\n",
    "    path = file_path.split('/')[:-1]\n",
    "    dir = '/'.join(path)\n",
    "\n",
    "    file_name = file_path.split('/')[-1]\n",
    "\n",
    "    print(file_path, file_name)\n",
    "    with open(destination_path, 'wb') as destination:\n",
    "        destination.write(file_system[dir]['files'][file_name])"
   ]
  }
 ],
 "metadata": {
  "language_info": {
   "name": "python"
  }
 },
 "nbformat": 4,
 "nbformat_minor": 2
}
