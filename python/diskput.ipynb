{
 "cells": [
  {
   "cell_type": "code",
   "execution_count": 1,
   "metadata": {},
   "outputs": [],
   "source": [
    "#! /usr/bin/env python3\n",
    "import sys\n",
    "import time\n",
    "from utils import get_boot_sector, get_fat_info, get_file_system, get_directory, get_linked_blocks"
   ]
  },
  {
   "cell_type": "code",
   "execution_count": 19,
   "metadata": {},
   "outputs": [],
   "source": [
    "def write_file_to_disk(f, file_data, fat, block_size, root_dir_start, root_dir_blocks):\n",
    "    # Calculate the number of blocks needed\n",
    "    num_blocks_needed = (len(file_data) + block_size - 1) // block_size\n",
    "\n",
    "    # Find free blocks\n",
    "    free_blocks = [k for k, v in fat.items() if v == 0x00][:num_blocks_needed]\n",
    "    # print(free_blocks, num_blocks_needed)\n",
    "    if len(free_blocks) < num_blocks_needed:\n",
    "        raise Exception(\"Not enough free space on the disk\")\n",
    "\n",
    "    # Write data to the blocks\n",
    "    for i, block in enumerate(free_blocks):\n",
    "        f.seek(block * block_size)\n",
    "        # print(f\"Going to write at block {block}\", file_data[i * block_size:(i + 1) * block_size])\n",
    "        f.write(file_data[i * block_size:(i + 1) * block_size])\n",
    "\n",
    "        # Update FAT in-memory (linking blocks)\n",
    "        if i < len(free_blocks) - 1:\n",
    "            fat[block] = free_blocks[i + 1]\n",
    "        else:\n",
    "            # Mark the last block in the FAT\n",
    "            fat[block] = 0xFFFFFFFE  # End of file marker\n",
    "    \n",
    "    return free_blocks[0]\n",
    "\n",
    "def update_fat(f, fat, fat_start, block_size):\n",
    "    f.seek(fat_start * block_size)\n",
    "    for entry in fat.values():\n",
    "        # print(entry.to_bytes(4, byteorder='big'))\n",
    "        f.write(entry.to_bytes(4, byteorder='big'))\n",
    "\n",
    "def update_directory(f, destination_path, file_data, start_block, block_size, file_system, root_dir_start, root_dir_blocks):\n",
    "    # Split the destination path to get directory and filename\n",
    "    path_parts = destination_path.split('/')\n",
    "    dir_path = '/'.join(path_parts[:-2])\n",
    "    the_dir = path_parts[-2]\n",
    "    file_name = path_parts[-1]\n",
    "\n",
    "    # Find the directory entry\n",
    "    if dir_path == '':\n",
    "        dir_path = '/'\n",
    "\n",
    "        print(file_system[dir_path]['entries'])\n",
    "        directory_entry = {'start_block': root_dir_start, 'num_blocks': root_dir_blocks, 'file_name': '/'}\n",
    "    else:\n",
    "        directory_entry = [x for x in file_system[dir_path]['entries'] if x['file_name'] == the_dir][0]\n",
    "\n",
    "    \n",
    "\n",
    "    f.seek(directory_entry['start_block'] * block_size)\n",
    "    status = -1\n",
    "    while status != 0:\n",
    "        status = int.from_bytes(f.read(1), 'big')\n",
    "        if status != 0:\n",
    "            f.read(63)\n",
    "\n",
    "    # seek back one byte, so we put the file entry in the right place, from current spot\n",
    "    f.seek(-1, 1)\n",
    "    \n",
    "    # write in a 3 for status \n",
    "    f.write(b'\\x03')\n",
    "\n",
    "    f.write(start_block.to_bytes(4, byteorder='big'))\n",
    "\n",
    "    num_blocks = (len(file_data) + block_size - 1) // block_size\n",
    "    f.write(num_blocks.to_bytes(4, byteorder='big'))\n",
    "\n",
    "    file_size = len(file_data)\n",
    "    f.write(file_size.to_bytes(4, byteorder='big'))\n",
    "\n",
    "    current_time = time.localtime()\n",
    "    year, month, day, hour, minute, second = current_time.tm_year, current_time.tm_mon, current_time.tm_mday, current_time.tm_hour, current_time.tm_min, current_time.tm_sec\n",
    "    # Write creation times\n",
    "    f.write(year.to_bytes(2, byteorder='big'))\n",
    "    f.write(month.to_bytes(1, byteorder='big'))\n",
    "    f.write(day.to_bytes(1, byteorder='big'))\n",
    "    f.write(hour.to_bytes(1, byteorder='big'))\n",
    "    f.write(minute.to_bytes(1, byteorder='big'))\n",
    "    f.write(second.to_bytes(1, byteorder='big'))\n",
    "    # Modification times\n",
    "    f.write(year.to_bytes(2, byteorder='big'))\n",
    "    f.write(month.to_bytes(1, byteorder='big'))\n",
    "    f.write(day.to_bytes(1, byteorder='big'))\n",
    "    f.write(hour.to_bytes(1, byteorder='big'))\n",
    "    f.write(minute.to_bytes(1, byteorder='big'))\n",
    "    f.write(second.to_bytes(1, byteorder='big'))\n",
    "\n",
    "    filename_bytes = file_name.encode('utf-8')\n",
    "    # Ensure that the filename does not exceed 31 bytes\n",
    "    if len(filename_bytes) > 31:\n",
    "        raise ValueError(\"Filename is too long.\")\n",
    "    null_bytes_needed = 31 - len(filename_bytes)\n",
    "\n",
    "    f.write(filename_bytes)\n",
    "    f.write(b'\\x00' * null_bytes_needed)\n",
    "\n",
    "    filler = b'\\xFF' * 6\n",
    "    f.write(filler)"
   ]
  },
  {
   "cell_type": "code",
   "execution_count": 20,
   "metadata": {},
   "outputs": [],
   "source": [
    "image_file = '../test.img'\n",
    "source_path = './syyy.txt'\n",
    "destination_path = '/syyy.txt'"
   ]
  },
  {
   "cell_type": "code",
   "execution_count": 21,
   "metadata": {},
   "outputs": [
    {
     "name": "stdout",
     "output_type": "stream",
     "text": [
      "[{'status': 3, 'file_name': 'mkfile.cc', 'start_block': 1, 'num_blocks': 2, 'file_size': 735, 'creation_time': '2005/11/15 12:00:00', 'modification_time': 2204568310775808}, {'status': 3, 'file_name': 'foo.txt', 'start_block': 61, 'num_blocks': 5, 'file_size': 2560, 'creation_time': '2005/11/15 12:00:00', 'modification_time': 2204568310775808}, {'status': 3, 'file_name': 'disk.img.gz', 'start_block': 66, 'num_blocks': 8, 'file_size': 3940, 'creation_time': '2009/08/04 21:11:13', 'modification_time': 2208953288428301}]\n",
      "time: 2023/11/26 23:29:57\n",
      "file_name syyy.txt\n"
     ]
    }
   ],
   "source": [
    "\n",
    "with open(image_file, \"r+b\") as f, open(source_path, \"rb\") as source_file:\n",
    "    os_name, block_size, block_count, fat_start, fat_blocks, root_dir_start, root_dir_blocks = get_boot_sector(f)\n",
    "    fat = get_fat_info(f, fat_start, fat_blocks, block_size)\n",
    "    file_data = source_file.read()\n",
    "    file_system = get_file_system(f, root_dir_blocks, block_size, fat, root_dir_start)\n",
    "    # WRITE THE FILE INTO THE BLOCKS\n",
    "    # to implement\n",
    "    start_block = write_file_to_disk(f, file_data, fat, block_size, root_dir_start, root_dir_blocks)\n",
    "    \n",
    "    # 2. UPDATE THE FAT\n",
    "    # to implement\n",
    "    update_fat(f, fat, fat_start, block_size) \n",
    "    \n",
    "    # 3. UPDATE THE DIRECTORY\n",
    "    # to implement\n",
    "    update_directory(f, destination_path, file_data, start_block, block_size, file_system, root_dir_start, root_dir_blocks) "
   ]
  },
  {
   "cell_type": "code",
   "execution_count": 48,
   "metadata": {},
   "outputs": [
    {
     "name": "stdout",
     "output_type": "stream",
     "text": [
      "time: 2023/11/26 22:51:11\n",
      "file_name syyy.txt\n"
     ]
    }
   ],
   "source": [
    "with open(image_file, \"r+b\") as f, open(source_path, \"rb\") as source_file:\n",
    "    update_directory(f, destination_path, file_data, start_block, block_size, file_system)"
   ]
  },
  {
   "cell_type": "code",
   "execution_count": 49,
   "metadata": {},
   "outputs": [
    {
     "data": {
      "text/plain": [
       "[{'status': 3,\n",
       "  'file_name': 'foo.txt',\n",
       "  'start_block': 61,\n",
       "  'num_blocks': 5,\n",
       "  'file_size': 2560,\n",
       "  'creation_time': '2005/11/15 12:00:00',\n",
       "  'modification_time': 2204568310775808},\n",
       " {'status': 120,\n",
       "  'file_name': 't                       ',\n",
       "  'start_block': 50331648,\n",
       "  'num_blocks': 25600,\n",
       "  'file_size': 13090917,\n",
       "  'creation_time': '25655/84/101 100:55:84',\n",
       "  'modification_time': 32503184952816760},\n",
       " {'status': 3,\n",
       "  'file_name': 'xt                       ',\n",
       "  'start_block': 2013462528,\n",
       "  'num_blocks': 100,\n",
       "  'file_size': 51136,\n",
       "  'creation_time': '25956/55/179 101:100:55',\n",
       "  'modification_time': 50510986397429364},\n",
       " {'status': 3,\n",
       "  'file_name': 'xt                       ',\n",
       "  'start_block': 888,\n",
       "  'num_blocks': 100,\n",
       "  'file_size': 51136,\n",
       "  'creation_time': '25956/55/234 101:100:55',\n",
       "  'modification_time': 65992110116515444},\n",
       " {'status': 3,\n",
       "  'file_name': 'syyy.txt                       ',\n",
       "  'start_block': 888,\n",
       "  'num_blocks': 100,\n",
       "  'file_size': 51136,\n",
       "  'creation_time': '2023/11/26 22:51:11',\n",
       "  'modification_time': 2224359705293579}]"
      ]
     },
     "execution_count": 49,
     "metadata": {},
     "output_type": "execute_result"
    }
   ],
   "source": [
    "with open(image_file, 'rb') as f:\n",
    "    blocks = get_linked_blocks(f, 4, block_size, 84, fat)\n",
    "    entries = get_directory(blocks, block_size, root_dir_blocks)\n",
    "\n",
    "entries"
   ]
  },
  {
   "cell_type": "code",
   "execution_count": 43,
   "metadata": {},
   "outputs": [
    {
     "ename": "NameError",
     "evalue": "name 'file_name' is not defined",
     "output_type": "error",
     "traceback": [
      "\u001b[0;31m---------------------------------------------------------------------------\u001b[0m",
      "\u001b[0;31mNameError\u001b[0m                                 Traceback (most recent call last)",
      "\u001b[1;32m/Users/jackbullen/Desktop/Fall23/OS/CSC360/Assignments/File System/python/diskput.ipynb Cell 7\u001b[0m line \u001b[0;36m1\n\u001b[0;32m----> <a href='vscode-notebook-cell:/Users/jackbullen/Desktop/Fall23/OS/CSC360/Assignments/File%20System/python/diskput.ipynb#W4sZmlsZQ%3D%3D?line=0'>1</a>\u001b[0m file_name\n",
      "\u001b[0;31mNameError\u001b[0m: name 'file_name' is not defined"
     ]
    }
   ],
   "source": [
    "file_name"
   ]
  },
  {
   "cell_type": "code",
   "execution_count": null,
   "metadata": {},
   "outputs": [],
   "source": []
  }
 ],
 "metadata": {
  "kernelspec": {
   "display_name": "Python 3",
   "language": "python",
   "name": "python3"
  },
  "language_info": {
   "codemirror_mode": {
    "name": "ipython",
    "version": 3
   },
   "file_extension": ".py",
   "mimetype": "text/x-python",
   "name": "python",
   "nbconvert_exporter": "python",
   "pygments_lexer": "ipython3",
   "version": "3.11.5"
  }
 },
 "nbformat": 4,
 "nbformat_minor": 2
}
