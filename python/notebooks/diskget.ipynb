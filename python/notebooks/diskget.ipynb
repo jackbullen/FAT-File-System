{
 "cells": [
  {
   "cell_type": "code",
   "execution_count": 1,
   "metadata": {},
   "outputs": [],
   "source": [
    "import sys\n",
    "from utils import get_boot_sector, get_root_directory, get_block, get_fat_info, BOOT_SECTOR_SIZE"
   ]
  },
  {
   "cell_type": "code",
   "execution_count": 2,
   "metadata": {},
   "outputs": [],
   "source": []
  },
  {
   "cell_type": "code",
   "execution_count": 9,
   "metadata": {},
   "outputs": [],
   "source": [
    "from utils import get_boot_sector, get_fat_info, get_file_system\n"
   ]
  },
  {
   "cell_type": "code",
   "execution_count": 23,
   "metadata": {},
   "outputs": [
    {
     "name": "stdout",
     "output_type": "stream",
     "text": [
      "/subdir1/subdir2/foo.txt foo.txt\n"
     ]
    }
   ],
   "source": [
    "image_file = '/Users/jackbullen/Downloads/subdirs.img'\n",
    "\n",
    "file_path = '/subdir1/subdir2/foo.txt'\n",
    "destination_path = './mkfile.cc'\n",
    "\n",
    "with open(image_file, \"rb\") as f:\n",
    "    # Get super block, root, and fat\n",
    "    os_name, block_size, block_count, fat_start, fat_blocks, root_dir_start, root_dir_blocks = get_boot_sector(f)\n",
    "    fat = get_fat_info(f, fat_start, fat_blocks, block_size)\n",
    "\n",
    "    file_system = get_file_system(root_dir_blocks, block_size, fat, root_dir_start)\n",
    "\n",
    "    path = file_path.split('/')[:-1]\n",
    "    dir = '/'.join(path)\n",
    "\n",
    "    file_name = file_path.split('/')[-1]\n",
    "\n",
    "    print(file_path, file_name)\n",
    "    with open(destination_path, 'wb') as destination:\n",
    "        destination.write(file_system[dir]['files'][file_name])"
   ]
  },
  {
   "cell_type": "code",
   "execution_count": 21,
   "metadata": {},
   "outputs": [
    {
     "ename": "SyntaxError",
     "evalue": "invalid syntax (688951843.py, line 1)",
     "output_type": "error",
     "traceback": [
      "\u001b[0;36m  Cell \u001b[0;32mIn[21], line 1\u001b[0;36m\u001b[0m\n\u001b[0;31m    file_system[]\u001b[0m\n\u001b[0m                ^\u001b[0m\n\u001b[0;31mSyntaxError\u001b[0m\u001b[0;31m:\u001b[0m invalid syntax\n"
     ]
    }
   ],
   "source": [
    "file_system[]"
   ]
  },
  {
   "cell_type": "code",
   "execution_count": null,
   "metadata": {},
   "outputs": [],
   "source": []
  }
 ],
 "metadata": {
  "kernelspec": {
   "display_name": "Python 3",
   "language": "python",
   "name": "python3"
  },
  "language_info": {
   "codemirror_mode": {
    "name": "ipython",
    "version": 3
   },
   "file_extension": ".py",
   "mimetype": "text/x-python",
   "name": "python",
   "nbconvert_exporter": "python",
   "pygments_lexer": "ipython3",
   "version": "3.11.5"
  }
 },
 "nbformat": 4,
 "nbformat_minor": 2
}
